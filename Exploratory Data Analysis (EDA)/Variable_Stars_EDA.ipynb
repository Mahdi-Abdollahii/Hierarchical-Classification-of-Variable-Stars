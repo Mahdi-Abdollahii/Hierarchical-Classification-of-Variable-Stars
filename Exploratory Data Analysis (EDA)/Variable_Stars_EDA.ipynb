{
  "nbformat": 4,
  "nbformat_minor": 0,
  "metadata": {
    "colab": {
      "provenance": [],
      "include_colab_link": true
    },
    "kernelspec": {
      "name": "python3",
      "display_name": "Python 3"
    }
  },
  "cells": [
    {
      "cell_type": "markdown",
      "metadata": {
        "id": "view-in-github",
        "colab_type": "text"
      },
      "source": [
        "<a href=\"https://colab.research.google.com/github/Mahdi-Abdollahii/Hierarchical-Classification-of-Variable-Stars/blob/main/Exploratory%20Data%20Analysis%20(EDA)/Variable_Stars_EDA.ipynb\" target=\"_parent\"><img src=\"https://colab.research.google.com/assets/colab-badge.svg\" alt=\"Open In Colab\"/></a>"
      ]
    },
    {
      "cell_type": "markdown",
      "source": [
        "## 0.Installing Libraries"
      ],
      "metadata": {
        "id": "rgZlcrGh9sxP"
      }
    },
    {
      "cell_type": "code",
      "source": [
        "!pip install patool"
      ],
      "metadata": {
        "colab": {
          "base_uri": "https://localhost:8080/"
        },
        "id": "6tSr2SNK9rmI",
        "outputId": "57f9b6c5-d5a1-417d-fe1d-1defbedbf09d"
      },
      "execution_count": null,
      "outputs": [
        {
          "output_type": "stream",
          "name": "stdout",
          "text": [
            "Looking in indexes: https://pypi.org/simple, https://us-python.pkg.dev/colab-wheels/public/simple/\n",
            "Collecting patool\n",
            "  Downloading patool-1.12-py2.py3-none-any.whl (77 kB)\n",
            "\u001b[2K     \u001b[90m━━━━━━━━━━━━━━━━━━━━━━━━━━━━━━━━━━━━━━━━\u001b[0m \u001b[32m77.5/77.5 KB\u001b[0m \u001b[31m4.6 MB/s\u001b[0m eta \u001b[36m0:00:00\u001b[0m\n",
            "\u001b[?25hInstalling collected packages: patool\n",
            "Successfully installed patool-1.12\n"
          ]
        }
      ]
    },
    {
      "cell_type": "markdown",
      "metadata": {
        "id": "6_aBAnOMdCjj"
      },
      "source": [
        "# 1. Libraries"
      ]
    },
    {
      "cell_type": "code",
      "metadata": {
        "id": "dtiVUGDRbIzE"
      },
      "source": [
        "import os\n",
        "import patoolib\n",
        "from pydrive.auth import GoogleAuth\n",
        "from pydrive.drive import GoogleDrive\n",
        "from google.colab import auth\n",
        "from oauth2client.client import GoogleCredentials\n",
        "import pandas as pd\n",
        "import matplotlib.pylab as plt\n",
        "import numpy as np\n",
        "from astropy.timeseries import LombScargle"
      ],
      "execution_count": null,
      "outputs": []
    },
    {
      "cell_type": "markdown",
      "metadata": {
        "id": "cGIOD0fqdNyP"
      },
      "source": [
        "# 2.DataFrame"
      ]
    },
    {
      "cell_type": "markdown",
      "source": [
        "For this section, you should download data (OGLE3_All_STAR.rar) from this [link](https://drive.google.com/file/d/1E27r0E7hvdeAiulw-JdUIX6dQsRY_ooM/view?usp=share_link) and upload it in Google collaboratory if you want to run it there.\n",
        "\n",
        "If you want to run it on your computer, you should change 'File_address' and 'Unrar_file_address.' "
      ],
      "metadata": {
        "id": "bRc8YN3z__Pe"
      }
    },
    {
      "cell_type": "code",
      "source": [
        "File_address = \"/content/OGLE3_All_STAR.rar\"\n",
        "patoolib.extract_archive(File_address)"
      ],
      "metadata": {
        "colab": {
          "base_uri": "https://localhost:8080/",
          "height": 108
        },
        "id": "3wsBSeWc-eQr",
        "outputId": "9488d914-91d3-4258-f116-32315b3d7fab"
      },
      "execution_count": null,
      "outputs": [
        {
          "output_type": "stream",
          "name": "stdout",
          "text": [
            "patool: Extracting /content/OGLE.rar ...\n",
            "patool: running /usr/bin/unrar x -- /content/OGLE.rar\n",
            "patool:     with cwd='./Unpack_bhg0o7i2'\n",
            "patool: ... /content/OGLE.rar extracted to `OGLE.csv'.\n"
          ]
        },
        {
          "output_type": "execute_result",
          "data": {
            "text/plain": [
              "'OGLE.csv'"
            ],
            "application/vnd.google.colaboratory.intrinsic+json": {
              "type": "string"
            }
          },
          "metadata": {},
          "execution_count": 10
        }
      ]
    },
    {
      "cell_type": "code",
      "metadata": {
        "id": "30hhY7rhbTmW"
      },
      "source": [
        "Unrar_file_address = '/content/OGLE3_All_STAR.csv'\n",
        "Data = pd.read_csv(Unrar_file_address ,index_col =\"ID\")\n",
        "Data = Data.drop(['Unnamed: 0'],axis=1)"
      ],
      "execution_count": null,
      "outputs": []
    },
    {
      "cell_type": "code",
      "source": [
        "Data # to see what our data looks like"
      ],
      "metadata": {
        "colab": {
          "base_uri": "https://localhost:8080/",
          "height": 846
        },
        "id": "yb78NTZf9cUl",
        "outputId": "fbe725df-a047-4b50-c418-4c933f80f80b"
      },
      "execution_count": null,
      "outputs": [
        {
          "output_type": "execute_result",
          "data": {
            "text/plain": [
              "                    target Type Subtype           RA         Decl       I  \\\n",
              "ID                                                                          \n",
              "OGLE-GD-CEP-0001        GD  Cep       1  10:35:57.02  -63:10:19.6  14.236   \n",
              "OGLE-GD-CEP-0002        GD  Cep       F  10:37:17.29  -62:43:22.5  15.005   \n",
              "OGLE-GD-CEP-0003        GD  Cep       F  10:37:59.67  -62:12:21.2  13.420   \n",
              "OGLE-GD-CEP-0004        GD  Cep      12  10:40:09.98  -62:48:16.1  14.511   \n",
              "OGLE-GD-CEP-0005        GD  Cep       1  10:52:33.12  -61:29:05.4  14.666   \n",
              "...                    ...  ...     ...          ...          ...     ...   \n",
              "OGLE-BLG-ELL-025401    BLG  ECL     ELL  19:01:57.02  -30:55:12.2  13.526   \n",
              "OGLE-BLG-ELL-025402    BLG  ECL     ELL  19:02:05.95  -30:43:55.5  16.856   \n",
              "OGLE-BLG-ELL-025403    BLG  ECL     ELL  19:03:57.20  -30:57:07.2  13.323   \n",
              "OGLE-BLG-ELL-025404    BLG  ECL     ELL  19:05:58.38  -30:25:02.8  14.516   \n",
              "OGLE-BLG-ELL-025405    BLG  ECL     ELL  19:06:37.95  -30:16:16.7  15.911   \n",
              "\n",
              "                          V     V_I         P_1        T0_1    A_1     A_2  \\\n",
              "ID                                                                           \n",
              "OGLE-GD-CEP-0001    -99.990 -99.990    1.304696  7000.46515  0.248 -99.990   \n",
              "OGLE-GD-CEP-0002    -99.990 -99.990    1.580926  7000.43213  0.293 -99.990   \n",
              "OGLE-GD-CEP-0003     14.926   1.506    4.632414  7002.34789  0.698 -99.990   \n",
              "OGLE-GD-CEP-0004    -99.990 -99.990    0.911900  7000.59719  0.264   0.048   \n",
              "OGLE-GD-CEP-0005     16.786   2.120    2.416521  7002.32769  0.259 -99.990   \n",
              "...                     ...     ...         ...         ...    ...     ...   \n",
              "OGLE-BLG-ELL-025401  14.169   0.643    6.921232  7004.30030  0.089   0.083   \n",
              "OGLE-BLG-ELL-025402  17.502   0.646    1.234050  7000.34800  0.116   0.095   \n",
              "OGLE-BLG-ELL-025403  14.601   1.278   56.094750  7039.03870  0.196   0.166   \n",
              "OGLE-BLG-ELL-025404  16.067   1.551  128.463373  7070.55590  0.055   0.049   \n",
              "OGLE-BLG-ELL-025405  16.440   0.529    0.558234  7000.17860  0.095   0.089   \n",
              "\n",
              "                                                                  info  \n",
              "ID                                                                      \n",
              "OGLE-GD-CEP-0001     [[7.78778742e+03 1.42770000e+01 6.00000000e-03...  \n",
              "OGLE-GD-CEP-0002     [[7.78778742e+03 1.48600000e+01 7.00000000e-03...  \n",
              "OGLE-GD-CEP-0003     [[6.41565190e+03 1.33980000e+01 6.00000000e-03...  \n",
              "OGLE-GD-CEP-0004     [[7.78283399e+03 1.44830000e+01 6.00000000e-03...  \n",
              "OGLE-GD-CEP-0005     [[6.41566132e+03 1.46390000e+01 7.00000000e-03...  \n",
              "...                                                                ...  \n",
              "OGLE-BLG-ELL-025401  [[5.62486759e+03 1.35460000e+01 4.00000000e-03...  \n",
              "OGLE-BLG-ELL-025402  [[5.62486759e+03 1.68920000e+01 7.00000000e-03...  \n",
              "OGLE-BLG-ELL-025403  [[5.62486759e+03 1.33250000e+01 4.00000000e-03...  \n",
              "OGLE-BLG-ELL-025404  [[5.62486759e+03 1.45130000e+01 4.00000000e-03...  \n",
              "OGLE-BLG-ELL-025405  [[5.62486759e+03 1.59390000e+01 5.00000000e-03...  \n",
              "\n",
              "[619307 rows x 13 columns]"
            ],
            "text/html": [
              "\n",
              "  <div id=\"df-a78b8dd0-e9e8-43c5-9edc-cd1b3edc8ce8\">\n",
              "    <div class=\"colab-df-container\">\n",
              "      <div>\n",
              "<style scoped>\n",
              "    .dataframe tbody tr th:only-of-type {\n",
              "        vertical-align: middle;\n",
              "    }\n",
              "\n",
              "    .dataframe tbody tr th {\n",
              "        vertical-align: top;\n",
              "    }\n",
              "\n",
              "    .dataframe thead th {\n",
              "        text-align: right;\n",
              "    }\n",
              "</style>\n",
              "<table border=\"1\" class=\"dataframe\">\n",
              "  <thead>\n",
              "    <tr style=\"text-align: right;\">\n",
              "      <th></th>\n",
              "      <th>target</th>\n",
              "      <th>Type</th>\n",
              "      <th>Subtype</th>\n",
              "      <th>RA</th>\n",
              "      <th>Decl</th>\n",
              "      <th>I</th>\n",
              "      <th>V</th>\n",
              "      <th>V_I</th>\n",
              "      <th>P_1</th>\n",
              "      <th>T0_1</th>\n",
              "      <th>A_1</th>\n",
              "      <th>A_2</th>\n",
              "      <th>info</th>\n",
              "    </tr>\n",
              "    <tr>\n",
              "      <th>ID</th>\n",
              "      <th></th>\n",
              "      <th></th>\n",
              "      <th></th>\n",
              "      <th></th>\n",
              "      <th></th>\n",
              "      <th></th>\n",
              "      <th></th>\n",
              "      <th></th>\n",
              "      <th></th>\n",
              "      <th></th>\n",
              "      <th></th>\n",
              "      <th></th>\n",
              "      <th></th>\n",
              "    </tr>\n",
              "  </thead>\n",
              "  <tbody>\n",
              "    <tr>\n",
              "      <th>OGLE-GD-CEP-0001</th>\n",
              "      <td>GD</td>\n",
              "      <td>Cep</td>\n",
              "      <td>1</td>\n",
              "      <td>10:35:57.02</td>\n",
              "      <td>-63:10:19.6</td>\n",
              "      <td>14.236</td>\n",
              "      <td>-99.990</td>\n",
              "      <td>-99.990</td>\n",
              "      <td>1.304696</td>\n",
              "      <td>7000.46515</td>\n",
              "      <td>0.248</td>\n",
              "      <td>-99.990</td>\n",
              "      <td>[[7.78778742e+03 1.42770000e+01 6.00000000e-03...</td>\n",
              "    </tr>\n",
              "    <tr>\n",
              "      <th>OGLE-GD-CEP-0002</th>\n",
              "      <td>GD</td>\n",
              "      <td>Cep</td>\n",
              "      <td>F</td>\n",
              "      <td>10:37:17.29</td>\n",
              "      <td>-62:43:22.5</td>\n",
              "      <td>15.005</td>\n",
              "      <td>-99.990</td>\n",
              "      <td>-99.990</td>\n",
              "      <td>1.580926</td>\n",
              "      <td>7000.43213</td>\n",
              "      <td>0.293</td>\n",
              "      <td>-99.990</td>\n",
              "      <td>[[7.78778742e+03 1.48600000e+01 7.00000000e-03...</td>\n",
              "    </tr>\n",
              "    <tr>\n",
              "      <th>OGLE-GD-CEP-0003</th>\n",
              "      <td>GD</td>\n",
              "      <td>Cep</td>\n",
              "      <td>F</td>\n",
              "      <td>10:37:59.67</td>\n",
              "      <td>-62:12:21.2</td>\n",
              "      <td>13.420</td>\n",
              "      <td>14.926</td>\n",
              "      <td>1.506</td>\n",
              "      <td>4.632414</td>\n",
              "      <td>7002.34789</td>\n",
              "      <td>0.698</td>\n",
              "      <td>-99.990</td>\n",
              "      <td>[[6.41565190e+03 1.33980000e+01 6.00000000e-03...</td>\n",
              "    </tr>\n",
              "    <tr>\n",
              "      <th>OGLE-GD-CEP-0004</th>\n",
              "      <td>GD</td>\n",
              "      <td>Cep</td>\n",
              "      <td>12</td>\n",
              "      <td>10:40:09.98</td>\n",
              "      <td>-62:48:16.1</td>\n",
              "      <td>14.511</td>\n",
              "      <td>-99.990</td>\n",
              "      <td>-99.990</td>\n",
              "      <td>0.911900</td>\n",
              "      <td>7000.59719</td>\n",
              "      <td>0.264</td>\n",
              "      <td>0.048</td>\n",
              "      <td>[[7.78283399e+03 1.44830000e+01 6.00000000e-03...</td>\n",
              "    </tr>\n",
              "    <tr>\n",
              "      <th>OGLE-GD-CEP-0005</th>\n",
              "      <td>GD</td>\n",
              "      <td>Cep</td>\n",
              "      <td>1</td>\n",
              "      <td>10:52:33.12</td>\n",
              "      <td>-61:29:05.4</td>\n",
              "      <td>14.666</td>\n",
              "      <td>16.786</td>\n",
              "      <td>2.120</td>\n",
              "      <td>2.416521</td>\n",
              "      <td>7002.32769</td>\n",
              "      <td>0.259</td>\n",
              "      <td>-99.990</td>\n",
              "      <td>[[6.41566132e+03 1.46390000e+01 7.00000000e-03...</td>\n",
              "    </tr>\n",
              "    <tr>\n",
              "      <th>...</th>\n",
              "      <td>...</td>\n",
              "      <td>...</td>\n",
              "      <td>...</td>\n",
              "      <td>...</td>\n",
              "      <td>...</td>\n",
              "      <td>...</td>\n",
              "      <td>...</td>\n",
              "      <td>...</td>\n",
              "      <td>...</td>\n",
              "      <td>...</td>\n",
              "      <td>...</td>\n",
              "      <td>...</td>\n",
              "      <td>...</td>\n",
              "    </tr>\n",
              "    <tr>\n",
              "      <th>OGLE-BLG-ELL-025401</th>\n",
              "      <td>BLG</td>\n",
              "      <td>ECL</td>\n",
              "      <td>ELL</td>\n",
              "      <td>19:01:57.02</td>\n",
              "      <td>-30:55:12.2</td>\n",
              "      <td>13.526</td>\n",
              "      <td>14.169</td>\n",
              "      <td>0.643</td>\n",
              "      <td>6.921232</td>\n",
              "      <td>7004.30030</td>\n",
              "      <td>0.089</td>\n",
              "      <td>0.083</td>\n",
              "      <td>[[5.62486759e+03 1.35460000e+01 4.00000000e-03...</td>\n",
              "    </tr>\n",
              "    <tr>\n",
              "      <th>OGLE-BLG-ELL-025402</th>\n",
              "      <td>BLG</td>\n",
              "      <td>ECL</td>\n",
              "      <td>ELL</td>\n",
              "      <td>19:02:05.95</td>\n",
              "      <td>-30:43:55.5</td>\n",
              "      <td>16.856</td>\n",
              "      <td>17.502</td>\n",
              "      <td>0.646</td>\n",
              "      <td>1.234050</td>\n",
              "      <td>7000.34800</td>\n",
              "      <td>0.116</td>\n",
              "      <td>0.095</td>\n",
              "      <td>[[5.62486759e+03 1.68920000e+01 7.00000000e-03...</td>\n",
              "    </tr>\n",
              "    <tr>\n",
              "      <th>OGLE-BLG-ELL-025403</th>\n",
              "      <td>BLG</td>\n",
              "      <td>ECL</td>\n",
              "      <td>ELL</td>\n",
              "      <td>19:03:57.20</td>\n",
              "      <td>-30:57:07.2</td>\n",
              "      <td>13.323</td>\n",
              "      <td>14.601</td>\n",
              "      <td>1.278</td>\n",
              "      <td>56.094750</td>\n",
              "      <td>7039.03870</td>\n",
              "      <td>0.196</td>\n",
              "      <td>0.166</td>\n",
              "      <td>[[5.62486759e+03 1.33250000e+01 4.00000000e-03...</td>\n",
              "    </tr>\n",
              "    <tr>\n",
              "      <th>OGLE-BLG-ELL-025404</th>\n",
              "      <td>BLG</td>\n",
              "      <td>ECL</td>\n",
              "      <td>ELL</td>\n",
              "      <td>19:05:58.38</td>\n",
              "      <td>-30:25:02.8</td>\n",
              "      <td>14.516</td>\n",
              "      <td>16.067</td>\n",
              "      <td>1.551</td>\n",
              "      <td>128.463373</td>\n",
              "      <td>7070.55590</td>\n",
              "      <td>0.055</td>\n",
              "      <td>0.049</td>\n",
              "      <td>[[5.62486759e+03 1.45130000e+01 4.00000000e-03...</td>\n",
              "    </tr>\n",
              "    <tr>\n",
              "      <th>OGLE-BLG-ELL-025405</th>\n",
              "      <td>BLG</td>\n",
              "      <td>ECL</td>\n",
              "      <td>ELL</td>\n",
              "      <td>19:06:37.95</td>\n",
              "      <td>-30:16:16.7</td>\n",
              "      <td>15.911</td>\n",
              "      <td>16.440</td>\n",
              "      <td>0.529</td>\n",
              "      <td>0.558234</td>\n",
              "      <td>7000.17860</td>\n",
              "      <td>0.095</td>\n",
              "      <td>0.089</td>\n",
              "      <td>[[5.62486759e+03 1.59390000e+01 5.00000000e-03...</td>\n",
              "    </tr>\n",
              "  </tbody>\n",
              "</table>\n",
              "<p>619307 rows × 13 columns</p>\n",
              "</div>\n",
              "      <button class=\"colab-df-convert\" onclick=\"convertToInteractive('df-a78b8dd0-e9e8-43c5-9edc-cd1b3edc8ce8')\"\n",
              "              title=\"Convert this dataframe to an interactive table.\"\n",
              "              style=\"display:none;\">\n",
              "        \n",
              "  <svg xmlns=\"http://www.w3.org/2000/svg\" height=\"24px\"viewBox=\"0 0 24 24\"\n",
              "       width=\"24px\">\n",
              "    <path d=\"M0 0h24v24H0V0z\" fill=\"none\"/>\n",
              "    <path d=\"M18.56 5.44l.94 2.06.94-2.06 2.06-.94-2.06-.94-.94-2.06-.94 2.06-2.06.94zm-11 1L8.5 8.5l.94-2.06 2.06-.94-2.06-.94L8.5 2.5l-.94 2.06-2.06.94zm10 10l.94 2.06.94-2.06 2.06-.94-2.06-.94-.94-2.06-.94 2.06-2.06.94z\"/><path d=\"M17.41 7.96l-1.37-1.37c-.4-.4-.92-.59-1.43-.59-.52 0-1.04.2-1.43.59L10.3 9.45l-7.72 7.72c-.78.78-.78 2.05 0 2.83L4 21.41c.39.39.9.59 1.41.59.51 0 1.02-.2 1.41-.59l7.78-7.78 2.81-2.81c.8-.78.8-2.07 0-2.86zM5.41 20L4 18.59l7.72-7.72 1.47 1.35L5.41 20z\"/>\n",
              "  </svg>\n",
              "      </button>\n",
              "      \n",
              "  <style>\n",
              "    .colab-df-container {\n",
              "      display:flex;\n",
              "      flex-wrap:wrap;\n",
              "      gap: 12px;\n",
              "    }\n",
              "\n",
              "    .colab-df-convert {\n",
              "      background-color: #E8F0FE;\n",
              "      border: none;\n",
              "      border-radius: 50%;\n",
              "      cursor: pointer;\n",
              "      display: none;\n",
              "      fill: #1967D2;\n",
              "      height: 32px;\n",
              "      padding: 0 0 0 0;\n",
              "      width: 32px;\n",
              "    }\n",
              "\n",
              "    .colab-df-convert:hover {\n",
              "      background-color: #E2EBFA;\n",
              "      box-shadow: 0px 1px 2px rgba(60, 64, 67, 0.3), 0px 1px 3px 1px rgba(60, 64, 67, 0.15);\n",
              "      fill: #174EA6;\n",
              "    }\n",
              "\n",
              "    [theme=dark] .colab-df-convert {\n",
              "      background-color: #3B4455;\n",
              "      fill: #D2E3FC;\n",
              "    }\n",
              "\n",
              "    [theme=dark] .colab-df-convert:hover {\n",
              "      background-color: #434B5C;\n",
              "      box-shadow: 0px 1px 3px 1px rgba(0, 0, 0, 0.15);\n",
              "      filter: drop-shadow(0px 1px 2px rgba(0, 0, 0, 0.3));\n",
              "      fill: #FFFFFF;\n",
              "    }\n",
              "  </style>\n",
              "\n",
              "      <script>\n",
              "        const buttonEl =\n",
              "          document.querySelector('#df-a78b8dd0-e9e8-43c5-9edc-cd1b3edc8ce8 button.colab-df-convert');\n",
              "        buttonEl.style.display =\n",
              "          google.colab.kernel.accessAllowed ? 'block' : 'none';\n",
              "\n",
              "        async function convertToInteractive(key) {\n",
              "          const element = document.querySelector('#df-a78b8dd0-e9e8-43c5-9edc-cd1b3edc8ce8');\n",
              "          const dataTable =\n",
              "            await google.colab.kernel.invokeFunction('convertToInteractive',\n",
              "                                                     [key], {});\n",
              "          if (!dataTable) return;\n",
              "\n",
              "          const docLinkHtml = 'Like what you see? Visit the ' +\n",
              "            '<a target=\"_blank\" href=https://colab.research.google.com/notebooks/data_table.ipynb>data table notebook</a>'\n",
              "            + ' to learn more about interactive tables.';\n",
              "          element.innerHTML = '';\n",
              "          dataTable['output_type'] = 'display_data';\n",
              "          await google.colab.output.renderOutput(dataTable, element);\n",
              "          const docLink = document.createElement('div');\n",
              "          docLink.innerHTML = docLinkHtml;\n",
              "          element.appendChild(docLink);\n",
              "        }\n",
              "      </script>\n",
              "    </div>\n",
              "  </div>\n",
              "  "
            ]
          },
          "metadata": {},
          "execution_count": 12
        }
      ]
    },
    {
      "cell_type": "markdown",
      "metadata": {
        "id": "-9T_yacMddzu"
      },
      "source": [
        "# 3. Function that Gives the Photometry Data of a Chosen Star (Data Extraction)"
      ]
    },
    {
      "cell_type": "code",
      "metadata": {
        "id": "GlVZVZu5bnH0"
      },
      "source": [
        "def star_photometry(star_name):    \n",
        "    a = Data.loc[str(star_name),'info'].replace('\\n','').replace(' ',',').replace('[','').replace(']','')\n",
        "    b = a.split(',')\n",
        "    c = np.array(b)\n",
        "    c = c.reshape((int(len(b)/3),3))\n",
        "    c = c.astype(np.float64)\n",
        "    return c\n",
        "#instruction : star_photometry(\"OGLE-GD-CEP-0005\")"
      ],
      "execution_count": null,
      "outputs": []
    },
    {
      "cell_type": "markdown",
      "metadata": {
        "id": "v_KbWcdvuegb"
      },
      "source": [
        "# Statistical Analysis"
      ]
    },
    {
      "cell_type": "markdown",
      "metadata": {
        "id": "B6rVTeRgumzY"
      },
      "source": [
        "**Function that Tests the Correlation of Binary Systems**"
      ]
    },
    {
      "cell_type": "code",
      "metadata": {
        "id": "8s72hAk4upsU"
      },
      "source": [
        "def star_correlation( star_name_1 , star_name_2 ):\n",
        "  a=star_photometry(star_name_1)\n",
        "  b=star_photometry(star_name_2)\n",
        "  c=np.corrcoef(a,b)\n",
        "  return c\n",
        "  #instruction: star_correlation('OGLE-BLG-ELL-025403', )\n",
        "  #Note : Only use this function when your are choosing two binary stars; Otherwise it is not meaningful\n",
        "  #ECL : Binary Stars"
      ],
      "execution_count": null,
      "outputs": []
    },
    {
      "cell_type": "code",
      "metadata": {
        "id": "JTVMzfstulJV",
        "colab": {
          "base_uri": "https://localhost:8080/"
        },
        "outputId": "ec38f8d1-41fc-410f-d6a4-fdf71dcc5c5d"
      },
      "source": [
        "# Example of two binary stars\n",
        "star_correlation ('OGLE-BLG-ELL-025403','OGLE-BLG-ELL-025402')"
      ],
      "execution_count": null,
      "outputs": [
        {
          "output_type": "execute_result",
          "data": {
            "text/plain": [
              "array([[1., 1., 1., ..., 1., 1., 1.],\n",
              "       [1., 1., 1., ..., 1., 1., 1.],\n",
              "       [1., 1., 1., ..., 1., 1., 1.],\n",
              "       ...,\n",
              "       [1., 1., 1., ..., 1., 1., 1.],\n",
              "       [1., 1., 1., ..., 1., 1., 1.],\n",
              "       [1., 1., 1., ..., 1., 1., 1.]])"
            ]
          },
          "metadata": {},
          "execution_count": 41
        }
      ]
    },
    {
      "cell_type": "markdown",
      "metadata": {
        "id": "t8ea1tdVu2e0"
      },
      "source": [
        " **Function that Plots the Histogram of Some Data**"
      ]
    },
    {
      "cell_type": "code",
      "metadata": {
        "id": "vjAjHsY3u_3V"
      },
      "source": [
        "def star_hist(aaa , title , xlabel ):  \n",
        "  fig=plt.figure(figsize=(8,5))\n",
        "  plt.hist(Data[aaa],  color ='m', histtype ='bar', log = True)\n",
        "  plt.xlabel(xlabel, fontsize=13)\n",
        "  plt.ylabel('Number of Stars' , fontsize =13)\n",
        "  plt.title(title, fontsize=16)\n",
        "  plt.show()\n",
        "  fig.savefig('Histogram.png',dpi=300)  #in case you want to save the figure\n",
        "  #instruction : star_hist(\"target\",'Target', 'Origin')"
      ],
      "execution_count": null,
      "outputs": []
    },
    {
      "cell_type": "code",
      "metadata": {
        "id": "6IpuoloWvC3k",
        "colab": {
          "base_uri": "https://localhost:8080/",
          "height": 355
        },
        "outputId": "9172c8a8-ac86-4097-e109-3d1e083d031e"
      },
      "source": [
        "star_hist(\"target\",'Target', 'Origin')  "
      ],
      "execution_count": null,
      "outputs": [
        {
          "output_type": "display_data",
          "data": {
            "text/plain": [
              "<Figure size 576x360 with 1 Axes>"
            ],
            "image/png": "[encoded data removed]"
          },
          "metadata": {
            "needs_background": "light"
          }
        }
      ]
    },
    {
      "cell_type": "code",
      "metadata": {
        "id": "CKNwEx1fvG_9",
        "colab": {
          "base_uri": "https://localhost:8080/",
          "height": 355
        },
        "outputId": "6100cacc-76aa-4d75-96d8-5835e8fc3b5e"
      },
      "source": [
        "star_hist(\"I\", 'Luminosity in I band','Range (Magnitude)')\n",
        "#we will use this band in our further studies"
      ],
      "execution_count": null,
      "outputs": [
        {
          "output_type": "display_data",
          "data": {
            "text/plain": [
              "<Figure size 576x360 with 1 Axes>"
            ],
            "image/png": "[encoded data removed]"
          },
          "metadata": {
            "needs_background": "light"
          }
        }
      ]
    },
    {
      "cell_type": "code",
      "metadata": {
        "id": "kXF4MWWcvNOW",
        "colab": {
          "base_uri": "https://localhost:8080/",
          "height": 355
        },
        "outputId": "bd5d9d63-0b32-4950-814f-4935b16769a5"
      },
      "source": [
        "star_hist(\"P_1\",'Period', 'Period (Julian Day)')"
      ],
      "execution_count": null,
      "outputs": [
        {
          "output_type": "display_data",
          "data": {
            "text/plain": [
              "<Figure size 576x360 with 1 Axes>"
            ],
            "image/png": "[encoded data removed]"
          },
          "metadata": {
            "needs_background": "light"
          }
        }
      ]
    },
    {
      "cell_type": "code",
      "metadata": {
        "id": "oeGP1GpYvP8K",
        "colab": {
          "base_uri": "https://localhost:8080/",
          "height": 355
        },
        "outputId": "9aaf40e9-ba37-47e5-e0ee-198277006f8a"
      },
      "source": [
        "star_hist(\"Type\",'Type','Type')"
      ],
      "execution_count": null,
      "outputs": [
        {
          "output_type": "display_data",
          "data": {
            "text/plain": [
              "<Figure size 576x360 with 1 Axes>"
            ],
            "image/png": "[encoded data removed]"
          },
          "metadata": {
            "needs_background": "light"
          }
        }
      ]
    },
    {
      "cell_type": "code",
      "metadata": {
        "id": "4bxktr6bvSNM",
        "colab": {
          "base_uri": "https://localhost:8080/",
          "height": 355
        },
        "outputId": "55095b5b-914d-4717-c24d-3c97c69c7af1"
      },
      "source": [
        "star_hist(\"A_1\",'A_1','Range (Magnitude)')"
      ],
      "execution_count": null,
      "outputs": [
        {
          "output_type": "display_data",
          "data": {
            "text/plain": [
              "<Figure size 576x360 with 1 Axes>"
            ],
            "image/png": "[encoded data removed]"
          },
          "metadata": {
            "needs_background": "light"
          }
        }
      ]
    },
    {
      "cell_type": "code",
      "metadata": {
        "id": "kCGBIvLyvUu8",
        "colab": {
          "base_uri": "https://localhost:8080/",
          "height": 355
        },
        "outputId": "76f63ee8-9e24-4ab3-c7b5-996fdf659777"
      },
      "source": [
        "star_hist(\"A_2\",'A_2','Range (Magnitude)')"
      ],
      "execution_count": null,
      "outputs": [
        {
          "output_type": "display_data",
          "data": {
            "text/plain": [
              "<Figure size 576x360 with 1 Axes>"
            ],
            "image/png": "[encoded data removed]"
          },
          "metadata": {
            "needs_background": "light"
          }
        }
      ]
    },
    {
      "cell_type": "markdown",
      "metadata": {
        "id": "oFYCLIDxvXlQ"
      },
      "source": [
        "**Separating the Classes and Plotting the Magnitude of Each Class**"
      ]
    },
    {
      "cell_type": "code",
      "metadata": {
        "id": "4LaMGRfZvdjQ",
        "colab": {
          "base_uri": "https://localhost:8080/"
        },
        "outputId": "de130a07-fc55-40f5-a630-052f135739ac"
      },
      "source": [
        "counter_Cep=0\n",
        "counter_aCep=0\n",
        "counter_T2Cep=0\n",
        "counter_RRLyr=0\n",
        "counter_ECL=0\n",
        "I_Cep=[]\n",
        "I_aCep=[]\n",
        "I_T2Cep=[]\n",
        "I_RRLyr=[]\n",
        "I_ECL=[]\n",
        "for i in range(619307) :\n",
        "  if Data.Type[i] == \"Cep\":\n",
        "       counter_Cep += 1\n",
        "       I_Cep.append(Data.I[i])\n",
        "  elif Data.Type[i] == \"aCep\" :\n",
        "       counter_aCep += 1\n",
        "       I_aCep.append(Data.I[i])\n",
        "  elif Data.Type[i] == \"T2Cep\" :\n",
        "       counter_T2Cep +=1\n",
        "       I_T2Cep.append(Data.I[i])\n",
        "  elif Data.Type[i] == \"RRLyr\" :\n",
        "       counter_RRLyr += 1\n",
        "       I_RRLyr.append(Data.I[i])\n",
        "  elif Data.Type[i] == \"ECL\" :\n",
        "       counter_ECL += 1\n",
        "       I_ECL.append(Data.I[i])    \n",
        "\n",
        "\n",
        "\n",
        "print(\"The 'Cep' class has %d stars.\" %counter_Cep)\n",
        "print(\"The 'aCep' class has %d stars.\" %counter_aCep)\n",
        "print(\"The 'T2Cep' class has %d stars.\" %counter_T2Cep)\n",
        "print(\"The 'RRLyr' class has %d stars.\" % counter_RRLyr)\n",
        "print(\"The 'ECL' class has %d stars.\" %counter_ECL)\n",
        " "
      ],
      "execution_count": null,
      "outputs": [
        {
          "output_type": "stream",
          "name": "stdout",
          "text": [
            "The 'Cep' class has 11078 stars.\n",
            "The 'aCep' class has 321 stars.\n",
            "The 'T2Cep' class has 1578 stars.\n",
            "The 'RRLyr' class has 122325 stars.\n",
            "The 'ECL' class has 484005 stars.\n"
          ]
        }
      ]
    },
    {
      "cell_type": "code",
      "metadata": {
        "id": "qHyUfksRv1TI"
      },
      "source": [
        "def class_hist(bbb, title) :\n",
        "  fig=plt.figure(figsize=(8,5))\n",
        "  plt.hist(bbb , bins=30 , color='c')\n",
        "  plt.xlabel('Range (Magnitude)', fontsize=13)\n",
        "  plt.ylabel('Number of stars', fontsize=13)\n",
        "  plt.title(title, fontsize=16)\n",
        "  plt.show\n",
        "  fig.savefig('Histogram of %s class.png'%title , dpi=300) #in case you want to save the figure\n",
        "  #instruction : class_hist(A,\"A\")"
      ],
      "execution_count": null,
      "outputs": []
    },
    {
      "cell_type": "code",
      "metadata": {
        "id": "jxt3HUuBv2SC",
        "colab": {
          "base_uri": "https://localhost:8080/",
          "height": 355
        },
        "outputId": "6fc76333-1feb-43f8-8aef-ca04a502a593"
      },
      "source": [
        "class_hist(I_Cep,\"Luminosity of 'Cep' Class\")"
      ],
      "execution_count": null,
      "outputs": [
        {
          "output_type": "display_data",
          "data": {
            "text/plain": [
              "<Figure size 576x360 with 1 Axes>"
            ],
            "image/png": "[encoded data removed]"
          },
          "metadata": {
            "needs_background": "light"
          }
        }
      ]
    },
    {
      "cell_type": "code",
      "metadata": {
        "id": "L3zLvXphv40d",
        "colab": {
          "base_uri": "https://localhost:8080/",
          "height": 355
        },
        "outputId": "507aa36f-8fc6-4871-b22d-092c92efce7b"
      },
      "source": [
        "class_hist(I_aCep,\"Luminosity of 'aCep' Class\" )"
      ],
      "execution_count": null,
      "outputs": [
        {
          "output_type": "display_data",
          "data": {
            "text/plain": [
              "<Figure size 576x360 with 1 Axes>"
            ],
            "image/png": "[encoded data removed]"
          },
          "metadata": {
            "needs_background": "light"
          }
        }
      ]
    },
    {
      "cell_type": "code",
      "metadata": {
        "id": "D2K_r_H5v7Zx",
        "colab": {
          "base_uri": "https://localhost:8080/",
          "height": 355
        },
        "outputId": "46c21ea1-7884-4c00-c8c7-0a5b02a91ceb"
      },
      "source": [
        "class_hist(I_ECL, \"Luminosity of 'ECL' Class\")"
      ],
      "execution_count": null,
      "outputs": [
        {
          "output_type": "display_data",
          "data": {
            "text/plain": [
              "<Figure size 576x360 with 1 Axes>"
            ],
            "image/png": "[encoded data removed]"
          },
          "metadata": {
            "needs_background": "light"
          }
        }
      ]
    },
    {
      "cell_type": "code",
      "metadata": {
        "id": "6yRtQjJbwFKi",
        "colab": {
          "base_uri": "https://localhost:8080/",
          "height": 355
        },
        "outputId": "39f7a1ef-25c0-4e52-bf46-609bde43e298"
      },
      "source": [
        "class_hist(I_RRLyr, \"Luminosity of 'RRLyr' Class\")"
      ],
      "execution_count": null,
      "outputs": [
        {
          "output_type": "display_data",
          "data": {
            "text/plain": [
              "<Figure size 576x360 with 1 Axes>"
            ],
            "image/png": "[encoded data removed]"
          },
          "metadata": {
            "needs_background": "light"
          }
        }
      ]
    },
    {
      "cell_type": "code",
      "metadata": {
        "id": "hXApyREzwHMb",
        "colab": {
          "base_uri": "https://localhost:8080/",
          "height": 355
        },
        "outputId": "224ee598-6cd0-4667-8d65-65037792b8c6"
      },
      "source": [
        "class_hist(I_T2Cep, \"Luminosity of 'T2Cep' Class\")"
      ],
      "execution_count": null,
      "outputs": [
        {
          "output_type": "display_data",
          "data": {
            "text/plain": [
              "<Figure size 576x360 with 1 Axes>"
            ],
            "image/png": "[encoded data removed]"
          },
          "metadata": {
            "needs_background": "light"
          }
        }
      ]
    },
    {
      "cell_type": "markdown",
      "metadata": {
        "id": "JZokmOfnqe89"
      },
      "source": [
        "# 7. For Further Usage, We Define a plot_data, period_by_LS and LS_plot Function "
      ]
    },
    {
      "cell_type": "markdown",
      "metadata": {
        "id": "ReulWjJSX86g"
      },
      "source": [
        "**Plot data function**"
      ]
    },
    {
      "cell_type": "code",
      "metadata": {
        "id": "_d7U12sbYCXi"
      },
      "source": [
        "def plot_data(star_name,data_frame,rows=3,columns=3,save=False):   #star_name must be a list [\"\"]\n",
        "  \n",
        "  i=0\n",
        "  j=0\n",
        "  \n",
        "  ii=False\n",
        "  iii=False\n",
        "  times=[]\n",
        "  mags=[]\n",
        "  names=[]\n",
        "  not_existing=[]\n",
        "\n",
        "  for i in range(len(star_name)):\n",
        "    ii=False\n",
        "    if star_name[i] in data_frame.index:\n",
        "      ii=True\n",
        "    if ii==True:\n",
        "      chosen_star_info=star_photometry(star_name[i])\n",
        "      chosen_star_info=np.array(chosen_star_info)\n",
        "      chosen_star_info=chosen_star_info.T\n",
        "      chosen_star_times=chosen_star_info[0]\n",
        "      times.append(chosen_star_times)\n",
        "      chosen_star_mags=chosen_star_info[1]\n",
        "      mags.append(chosen_star_mags)\n",
        "      names.append(star_name[i])\n",
        "    elif ii==False:\n",
        "      not_existing.append(star_name[i])\n",
        "    \n",
        "    if i==len(star_name) and len(names)==0:\n",
        "      iii=True\n",
        "\n",
        "  if len(not_existing)!=0:\n",
        "    print(\"These stars did not exist in the data:\")   \n",
        "    print(not_existing)\n",
        "\n",
        "  if iii==False:\n",
        "\n",
        "    i=0\n",
        "    j=0\n",
        "    fig=plt.figure(figsize=(20,10))\n",
        "    columns=columns\n",
        "    rows=rows\n",
        "    ax=[]\n",
        " \n",
        "    for i in range(len(names)):\n",
        "      ax1=fig.add_subplot(rows, columns, i+1)\n",
        "      ax.append(ax1)\n",
        "      plt.scatter(times[i],mags[i],s=5,color=\"g\") \n",
        "      ax1.title.set_text(names[i])\n",
        "\n",
        "    fig.suptitle(\"Magnitude vs Time (Julian)\",size=30)    \n",
        "    plt.show()\n",
        "    save=save\n",
        "    if save==True: \n",
        "      fig.savefig('Plot.png',dpi=300)  #in case you want to save the plot"
      ],
      "execution_count": null,
      "outputs": []
    },
    {
      "cell_type": "code",
      "metadata": {
        "id": "oo6aaqy-gVLq",
        "colab": {
          "base_uri": "https://localhost:8080/",
          "height": 451
        },
        "outputId": "ed088e09-e552-47e8-dd59-c449355b92f6"
      },
      "source": [
        "plot_data([\"OGLE-GD-CEP-0002\",\"OGLE-GD-CEP-0003\",\"OGLE-GD-CEP-0005\",\"OGLE-GD-CEP-0008\"],Data,3,2)"
      ],
      "execution_count": null,
      "outputs": [
        {
          "output_type": "display_data",
          "data": {
            "text/plain": [
              "<Figure size 1440x720 with 4 Axes>"
            ],
            "image/png": "[encoded data removed]"
          },
          "metadata": {
            "needs_background": "light"
          }
        }
      ]
    },
    {
      "cell_type": "markdown",
      "metadata": {
        "id": "hduyZow0w4-T"
      },
      "source": [
        "**Period Finding using Lomb Scargle**"
      ]
    },
    {
      "cell_type": "code",
      "metadata": {
        "id": "jDMgDK0zg9GC"
      },
      "source": [
        "def period_by_LS(star_name,data_frame,maximum_frequency=24,minimum_frequency=0.002):  #star_name must be a list [\"\"]\n",
        "  i=0\n",
        "  \n",
        "  ii=False\n",
        "  iii=False\n",
        "  times=[]\n",
        "  mags=[]\n",
        "  names=[]\n",
        "  not_existing=[]\n",
        "  stars_period_by_LS=pd.DataFrame(data=None)\n",
        "  true_period=[]\n",
        "  \n",
        "  for i in range(len(star_name)):\n",
        "    ii=False\n",
        "    if star_name[i] in data_frame.index:\n",
        "      ii=True\n",
        "    if ii==True:\n",
        "      chosen_star_info=star_photometry(star_name[i])\n",
        "      chosen_star_info=np.array(chosen_star_info)\n",
        "      chosen_star_info=chosen_star_info.T\n",
        "      chosen_star_times=chosen_star_info[0]\n",
        "      times.append(chosen_star_times)\n",
        "      chosen_star_mags=chosen_star_info[1]\n",
        "      mags.append(chosen_star_mags)\n",
        "      names.append(star_name[i])\n",
        "      true_period.append(data_frame.loc[star_name[i],'P_1'])\n",
        "\n",
        "    elif ii==False:\n",
        "      not_existing.append(star_name[i]) \n",
        "    \n",
        "    if i==len(star_name) and len(names)==0:\n",
        "      iii=True\n",
        "\n",
        "  if len(not_existing)!=0:\n",
        "    print(\"These stars did not exist in the data:\")   \n",
        "    print(not_existing)  \n",
        " \n",
        "  i=0\n",
        "  j=0\n",
        "  frequency=[]\n",
        "  power=[]\n",
        "  period=[]\n",
        "  if iii==False:\n",
        "    for i in range(len(names)):\n",
        "      f, p = LombScargle(times[i],mags[i], normalization= 'standard').autopower(minimum_frequency=0.002,maximum_frequency=24) #gives the frequency and the related power for our star's photometry\n",
        "      frequency.append(f)\n",
        "      power.append(p)\n",
        "      maxpower=np.max(p)    #gives the maximum power\n",
        "      j=np.where(p==maxpower)   #gives the index of the point with maximum power\n",
        "      star_freq=f[j]      #gives the frequency with maximum power\n",
        "      star_period=1/star_freq\n",
        "      period.append(star_period)\n",
        "\n",
        "    # Now we create a dataframe that gives us the names of the stars and periods\n",
        "    stars_period_by_LS=pd.DataFrame(data=[names,period,true_period]).T\n",
        "    stars_period_by_LS.columns=[\"Star Name\",\"Period (days)\",\"True Period (given byOGLE)\"]\n",
        "  \n",
        "    \n",
        "  return stars_period_by_LS"
      ],
      "execution_count": null,
      "outputs": []
    },
    {
      "cell_type": "code",
      "metadata": {
        "id": "exkGJvYagjjR",
        "colab": {
          "base_uri": "https://localhost:8080/",
          "height": 175
        },
        "outputId": "cc95c1c6-a309-4c2f-93eb-3f3e07bf6cc9"
      },
      "source": [
        "period_by_LS([\"OGLE-GD-CEP-0002\",\"OGLE-GD-CEP-0003\",\"OGLE-GD-CEP-0005\",\"OGLE-GD-CEP-0008\"],Data)"
      ],
      "execution_count": null,
      "outputs": [
        {
          "output_type": "execute_result",
          "data": {
            "text/plain": [
              "          Star Name         Period (days) True Period (given byOGLE)\n",
              "0  OGLE-GD-CEP-0002  [1.5809899585259046]                   1.580926\n",
              "1  OGLE-GD-CEP-0003   [4.632834441382458]                   4.632414\n",
              "2  OGLE-GD-CEP-0005   [2.416574590242522]                   2.416521\n",
              "3  OGLE-GD-CEP-0008   [9.541914140879298]                   9.541882"
            ],
            "text/html": [
              "\n",
              "  <div id=\"df-fdb9236a-a0af-4b12-99c9-2e3c904ac22a\">\n",
              "    <div class=\"colab-df-container\">\n",
              "      <div>\n",
              "<style scoped>\n",
              "    .dataframe tbody tr th:only-of-type {\n",
              "        vertical-align: middle;\n",
              "    }\n",
              "\n",
              "    .dataframe tbody tr th {\n",
              "        vertical-align: top;\n",
              "    }\n",
              "\n",
              "    .dataframe thead th {\n",
              "        text-align: right;\n",
              "    }\n",
              "</style>\n",
              "<table border=\"1\" class=\"dataframe\">\n",
              "  <thead>\n",
              "    <tr style=\"text-align: right;\">\n",
              "      <th></th>\n",
              "      <th>Star Name</th>\n",
              "      <th>Period (days)</th>\n",
              "      <th>True Period (given byOGLE)</th>\n",
              "    </tr>\n",
              "  </thead>\n",
              "  <tbody>\n",
              "    <tr>\n",
              "      <th>0</th>\n",
              "      <td>OGLE-GD-CEP-0002</td>\n",
              "      <td>[1.5809899585259046]</td>\n",
              "      <td>1.580926</td>\n",
              "    </tr>\n",
              "    <tr>\n",
              "      <th>1</th>\n",
              "      <td>OGLE-GD-CEP-0003</td>\n",
              "      <td>[4.632834441382458]</td>\n",
              "      <td>4.632414</td>\n",
              "    </tr>\n",
              "    <tr>\n",
              "      <th>2</th>\n",
              "      <td>OGLE-GD-CEP-0005</td>\n",
              "      <td>[2.416574590242522]</td>\n",
              "      <td>2.416521</td>\n",
              "    </tr>\n",
              "    <tr>\n",
              "      <th>3</th>\n",
              "      <td>OGLE-GD-CEP-0008</td>\n",
              "      <td>[9.541914140879298]</td>\n",
              "      <td>9.541882</td>\n",
              "    </tr>\n",
              "  </tbody>\n",
              "</table>\n",
              "</div>\n",
              "      <button class=\"colab-df-convert\" onclick=\"convertToInteractive('df-fdb9236a-a0af-4b12-99c9-2e3c904ac22a')\"\n",
              "              title=\"Convert this dataframe to an interactive table.\"\n",
              "              style=\"display:none;\">\n",
              "        \n",
              "  <svg xmlns=\"http://www.w3.org/2000/svg\" height=\"24px\"viewBox=\"0 0 24 24\"\n",
              "       width=\"24px\">\n",
              "    <path d=\"M0 0h24v24H0V0z\" fill=\"none\"/>\n",
              "    <path d=\"M18.56 5.44l.94 2.06.94-2.06 2.06-.94-2.06-.94-.94-2.06-.94 2.06-2.06.94zm-11 1L8.5 8.5l.94-2.06 2.06-.94-2.06-.94L8.5 2.5l-.94 2.06-2.06.94zm10 10l.94 2.06.94-2.06 2.06-.94-2.06-.94-.94-2.06-.94 2.06-2.06.94z\"/><path d=\"M17.41 7.96l-1.37-1.37c-.4-.4-.92-.59-1.43-.59-.52 0-1.04.2-1.43.59L10.3 9.45l-7.72 7.72c-.78.78-.78 2.05 0 2.83L4 21.41c.39.39.9.59 1.41.59.51 0 1.02-.2 1.41-.59l7.78-7.78 2.81-2.81c.8-.78.8-2.07 0-2.86zM5.41 20L4 18.59l7.72-7.72 1.47 1.35L5.41 20z\"/>\n",
              "  </svg>\n",
              "      </button>\n",
              "      \n",
              "  <style>\n",
              "    .colab-df-container {\n",
              "      display:flex;\n",
              "      flex-wrap:wrap;\n",
              "      gap: 12px;\n",
              "    }\n",
              "\n",
              "    .colab-df-convert {\n",
              "      background-color: #E8F0FE;\n",
              "      border: none;\n",
              "      border-radius: 50%;\n",
              "      cursor: pointer;\n",
              "      display: none;\n",
              "      fill: #1967D2;\n",
              "      height: 32px;\n",
              "      padding: 0 0 0 0;\n",
              "      width: 32px;\n",
              "    }\n",
              "\n",
              "    .colab-df-convert:hover {\n",
              "      background-color: #E2EBFA;\n",
              "      box-shadow: 0px 1px 2px rgba(60, 64, 67, 0.3), 0px 1px 3px 1px rgba(60, 64, 67, 0.15);\n",
              "      fill: #174EA6;\n",
              "    }\n",
              "\n",
              "    [theme=dark] .colab-df-convert {\n",
              "      background-color: #3B4455;\n",
              "      fill: #D2E3FC;\n",
              "    }\n",
              "\n",
              "    [theme=dark] .colab-df-convert:hover {\n",
              "      background-color: #434B5C;\n",
              "      box-shadow: 0px 1px 3px 1px rgba(0, 0, 0, 0.15);\n",
              "      filter: drop-shadow(0px 1px 2px rgba(0, 0, 0, 0.3));\n",
              "      fill: #FFFFFF;\n",
              "    }\n",
              "  </style>\n",
              "\n",
              "      <script>\n",
              "        const buttonEl =\n",
              "          document.querySelector('#df-fdb9236a-a0af-4b12-99c9-2e3c904ac22a button.colab-df-convert');\n",
              "        buttonEl.style.display =\n",
              "          google.colab.kernel.accessAllowed ? 'block' : 'none';\n",
              "\n",
              "        async function convertToInteractive(key) {\n",
              "          const element = document.querySelector('#df-fdb9236a-a0af-4b12-99c9-2e3c904ac22a');\n",
              "          const dataTable =\n",
              "            await google.colab.kernel.invokeFunction('convertToInteractive',\n",
              "                                                     [key], {});\n",
              "          if (!dataTable) return;\n",
              "\n",
              "          const docLinkHtml = 'Like what you see? Visit the ' +\n",
              "            '<a target=\"_blank\" href=https://colab.research.google.com/notebooks/data_table.ipynb>data table notebook</a>'\n",
              "            + ' to learn more about interactive tables.';\n",
              "          element.innerHTML = '';\n",
              "          dataTable['output_type'] = 'display_data';\n",
              "          await google.colab.output.renderOutput(dataTable, element);\n",
              "          const docLink = document.createElement('div');\n",
              "          docLink.innerHTML = docLinkHtml;\n",
              "          element.appendChild(docLink);\n",
              "        }\n",
              "      </script>\n",
              "    </div>\n",
              "  </div>\n",
              "  "
            ]
          },
          "metadata": {},
          "execution_count": 47
        }
      ]
    },
    {
      "cell_type": "markdown",
      "metadata": {
        "id": "i_09nugw3_Qe"
      },
      "source": [
        "**Fourier Plot Function**\n",
        "\n",
        "\n",
        " "
      ]
    },
    {
      "cell_type": "code",
      "metadata": {
        "id": "l3vsOBxt_SVv"
      },
      "source": [
        "def LS_plot(star_name,data_frame,minimum_frequency=0.002,maximum_frequency=24,rows=3,columns=3,save=False):   #star_name must be a list [\"\"]\n",
        "  i=0\n",
        "  \n",
        "  ii=False\n",
        "  iii=False\n",
        "  times=[]\n",
        "  mags=[]\n",
        "  names=[]\n",
        "  not_existing=[]\n",
        "  stars_period_by_LS=pd.DataFrame(data=None)\n",
        "  true_period=[]\n",
        "  \n",
        "  for i in range(len(star_name)):\n",
        "    ii=False\n",
        "    if star_name[i] in data_frame.index:\n",
        "      ii=True\n",
        "    if ii==True:\n",
        "      chosen_star_info=star_photometry(star_name[i])\n",
        "      chosen_star_info=np.array(chosen_star_info)\n",
        "      chosen_star_info=chosen_star_info.T\n",
        "      chosen_star_times=chosen_star_info[0]\n",
        "      times.append(chosen_star_times)\n",
        "      chosen_star_mags=chosen_star_info[1]\n",
        "      mags.append(chosen_star_mags)\n",
        "      names.append(star_name[i])\n",
        "      true_period.append(data_frame.loc[star_name[i],'P_1'])\n",
        "    elif ii==False:\n",
        "      not_existing.append(star_name[i])\n",
        "    \n",
        "    if i==len(star_name) and len(names)==0:\n",
        "      iii=True\n",
        "    \n",
        "\n",
        "  if len(not_existing)!=0:\n",
        "    print(\"These stars did not exist in the data:\")   \n",
        "    print(not_existing)    \n",
        "  \n",
        "  i=0\n",
        "  j=0\n",
        "  frequency=[]\n",
        "  power=[]\n",
        "  period=[]\n",
        "  if iii==False:\n",
        "    for i in range(len(names)):\n",
        "      f, p = LombScargle(times[i],mags[i], normalization= 'standard').autopower(minimum_frequency=0.002,maximum_frequency=24) #gives the frequency and the related power for our star's photometry\n",
        "      frequency.append(f)\n",
        "      power.append(p)\n",
        "      maxpower=np.max(p)    #gives the maximum power\n",
        "      j=np.where(p==maxpower)   #gives the index of the point with maximum power\n",
        "      star_freq=f[j]      #gives the frequency with maximum power\n",
        "      star_period=1/star_freq\n",
        "      period.append(star_period)\n",
        "\n",
        "    # Now we create a dataframe that gives us the names of the stars and periods\n",
        "    stars_period_by_LS=pd.DataFrame(data=[names,period,true_period]).T\n",
        "    stars_period_by_LS.columns=[\"Star Name\",\"Period (days)\",\"True Period (given by OGLE)\"]\n",
        "  \n",
        "  if iii==False:\n",
        "\n",
        "    i=0\n",
        "    j=0\n",
        "    fig=plt.figure(figsize=(20,10))\n",
        "    columns=columns\n",
        "    rows=rows\n",
        "    ax=[]\n",
        " \n",
        "    for i in range(len(names)):\n",
        "      ax1=fig.add_subplot(rows, columns, i+1)\n",
        "      ax.append(ax1)\n",
        "      plt.plot(frequency[i],power[i],color=\"c\")\n",
        "      plt.xlabel('Frequency (1/days)', fontsize=13)\n",
        "      plt.ylabel('Power', fontsize=13) \n",
        "      ax1.title.set_text(names[i])\n",
        "\n",
        "    fig.suptitle(\"Frequency vs Power (using LS)\",size=30)    \n",
        "    plt.show()\n",
        "    save=save\n",
        "    if save==True: \n",
        "      fig.savefig('Plot.png',dpi=300)  #in case you want to save the plot\n",
        "    \n",
        "  return stars_period_by_LS"
      ],
      "execution_count": null,
      "outputs": []
    },
    {
      "cell_type": "code",
      "metadata": {
        "id": "d1c-QkQlC7h0",
        "colab": {
          "base_uri": "https://localhost:8080/",
          "height": 647
        },
        "outputId": "492e8736-bb85-479d-92ed-4336f68e6fcf"
      },
      "source": [
        "df=LS_plot([\"OGLE-GD-CEP-0002\",\"OGLE-GD-CEP-0003\",\"OGLE-GD-CEP-0005\",\"OGLE-GD-CEP-0008\"],Data,0.0002,24,2,2,False)"
      ],
      "execution_count": null,
      "outputs": [
        {
          "output_type": "display_data",
          "data": {
            "text/plain": [
              "<Figure size 1440x720 with 4 Axes>"
            ],
            "image/png": "[encoded data removed]"
          },
          "metadata": {
            "needs_background": "light"
          }
        }
      ]
    }
  ]
}